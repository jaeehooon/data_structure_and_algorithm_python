{
 "cells": [
  {
   "cell_type": "markdown",
   "metadata": {},
   "source": [
    "# Ch 06 파이썬 고급 주제\n"
   ]
  },
  {
   "cell_type": "markdown",
   "metadata": {},
   "source": [
    "### 6.2.1 가상 환경\n",
    "\n",
    "### virtualenv\n",
    "- 파이썬 프로젝트에 필요한 패키지를 사용하기 위해 필요한 모든 실행 파일을 포함하는 폴더 생성\n",
    "- `pip install virtualenv`\n",
    "\n",
    "\n",
    "<br>\n",
    "\n",
    "### virtualenvwrapper\n",
    "- virtualenv를 사용하여 모든 가상환경을 한 곳에 배치"
   ]
  },
  {
   "cell_type": "markdown",
   "metadata": {},
   "source": [
    "### 6.2.2 디버깅\n",
    "- **pdb**를 이용하여 디버깅\n",
    "\n",
    "- `-i`뒤에 파일명을 적거나 `-m pdb` 뒤에 파일명을 적어서 실행\n"
   ]
  },
  {
   "cell_type": "code",
   "execution_count": 5,
   "metadata": {},
   "outputs": [],
   "source": [
    "# !python -i 1_threading_with_queue.py"
   ]
  },
  {
   "cell_type": "code",
   "execution_count": 7,
   "metadata": {},
   "outputs": [],
   "source": [
    "# !python -m pdb 1_threading_with_queue.py"
   ]
  },
  {
   "cell_type": "markdown",
   "metadata": {},
   "source": [
    "- 스크립트에서 디버깅하고 싶은 위치에 `pdb.set_trace()` 함수를 삽입하는 방법도 존재"
   ]
  },
  {
   "cell_type": "code",
   "execution_count": 9,
   "metadata": {},
   "outputs": [],
   "source": [
    "# import pdb\n",
    "# pdb.set_trace()"
   ]
  },
  {
   "cell_type": "markdown",
   "metadata": {},
   "source": [
    "### 6.2.3 프로파일링\n",
    "- **읽기 전용 데이터**는 리스트 대신 **튜플** 사용\n",
    "\n",
    "- **반복문에서 항목이 많은** 리스트나 튜플 대신 **제너레이터**를 사용하여 순회\n",
    "\n",
    "- 문자열을 연결할 때 + 연산자로 문자열을 연결하는 대신, 리스트에 문자열을 추가한 후,  \n",
    "    마지막에 리스트의 항목을 모두 하나로 연결"
   ]
  },
  {
   "cell_type": "markdown",
   "metadata": {},
   "source": [
    "- 좋은 예\n",
    "\n",
    "        items = [\"<table>\"]\n",
    "        for last_name, first_name in employee_list:\n",
    "            items.append('<tr><td>%s, %s</td></tr>' % (last_name, first_name))\n",
    "            items.append('</table>')\n",
    "        employee_table = ''.join(items)\n",
    "        \n",
    "- 나쁜 예\n",
    "\n",
    "        employee_table = '<table>'\n",
    "        for last_name, first_name in employee_list:\n",
    "            employee_table += '<tr><td>%s, %s</td></tr>' % (last_name, first_name))\n",
    "            employee_table += '</table>'\n",
    "            "
   ]
  },
  {
   "cell_type": "markdown",
   "metadata": {},
   "source": [
    "#### cProfile 모듈\n",
    "- 호출 시간에 대한 세부 분석을 제공\n",
    "\n",
    "- 병목 현상을 찾는데 사용"
   ]
  },
  {
   "cell_type": "code",
   "execution_count": 11,
   "metadata": {},
   "outputs": [],
   "source": [
    "import cProfile\n",
    "import time"
   ]
  },
  {
   "cell_type": "code",
   "execution_count": 12,
   "metadata": {},
   "outputs": [],
   "source": [
    "def sleep():\n",
    "    time.sleep(5)\n",
    "    \n",
    "    \n",
    "def hello_world():\n",
    "    print(\"Hello World!\")\n",
    "    \n",
    "\n",
    "def main():\n",
    "    sleep()\n",
    "    hello_world()"
   ]
  },
  {
   "cell_type": "code",
   "execution_count": 13,
   "metadata": {},
   "outputs": [
    {
     "name": "stdout",
     "output_type": "stream",
     "text": [
      "Hello World!\n",
      "         42 function calls in 5.005 seconds\n",
      "\n",
      "   Ordered by: standard name\n",
      "\n",
      "   ncalls  tottime  percall  cumtime  percall filename:lineno(function)\n",
      "        1    0.000    0.000    5.005    5.005 <ipython-input-12-56a6a3da4f59>:1(sleep)\n",
      "        1    0.000    0.000    0.000    0.000 <ipython-input-12-56a6a3da4f59>:5(hello_world)\n",
      "        1    0.000    0.000    5.005    5.005 <ipython-input-12-56a6a3da4f59>:9(main)\n",
      "        1    0.000    0.000    5.005    5.005 <string>:1(<module>)\n",
      "        3    0.000    0.000    0.000    0.000 iostream.py:197(schedule)\n",
      "        2    0.000    0.000    0.000    0.000 iostream.py:310(_is_master_process)\n",
      "        2    0.000    0.000    0.000    0.000 iostream.py:323(_schedule_flush)\n",
      "        2    0.000    0.000    0.000    0.000 iostream.py:386(write)\n",
      "        3    0.000    0.000    0.000    0.000 iostream.py:93(_event_pipe)\n",
      "        3    0.000    0.000    0.000    0.000 socket.py:357(send)\n",
      "        3    0.000    0.000    0.000    0.000 threading.py:1050(_wait_for_tstate_lock)\n",
      "        3    0.000    0.000    0.000    0.000 threading.py:1092(is_alive)\n",
      "        3    0.000    0.000    0.000    0.000 threading.py:507(is_set)\n",
      "        1    0.000    0.000    5.005    5.005 {built-in method builtins.exec}\n",
      "        2    0.000    0.000    0.000    0.000 {built-in method builtins.isinstance}\n",
      "        1    0.000    0.000    0.000    0.000 {built-in method builtins.print}\n",
      "        2    0.000    0.000    0.000    0.000 {built-in method posix.getpid}\n",
      "        1    5.005    5.005    5.005    5.005 {built-in method time.sleep}\n",
      "        3    0.000    0.000    0.000    0.000 {method 'acquire' of '_thread.lock' objects}\n",
      "        3    0.000    0.000    0.000    0.000 {method 'append' of 'collections.deque' objects}\n",
      "        1    0.000    0.000    0.000    0.000 {method 'disable' of '_lsprof.Profiler' objects}\n",
      "\n",
      "\n"
     ]
    }
   ],
   "source": [
    "cProfile.run('main()')"
   ]
  },
  {
   "cell_type": "markdown",
   "metadata": {},
   "source": [
    "- 스크립트 파일에 대해 실행  \n",
    "\n",
    "  `$python -m cProfile -o profile.dat` + 파일명  \n",
    "  `$python -m pstats profile.dat`"
   ]
  },
  {
   "cell_type": "markdown",
   "metadata": {},
   "source": [
    "#### timeit 모듈"
   ]
  },
  {
   "cell_type": "code",
   "execution_count": 14,
   "metadata": {},
   "outputs": [],
   "source": [
    "import timeit"
   ]
  },
  {
   "cell_type": "code",
   "execution_count": 15,
   "metadata": {},
   "outputs": [
    {
     "data": {
      "text/plain": [
       "0.017360685999847192"
      ]
     },
     "execution_count": 15,
     "metadata": {},
     "output_type": "execute_result"
    }
   ],
   "source": [
    "timeit.timeit(\"x = 2 + 2\")"
   ]
  },
  {
   "cell_type": "code",
   "execution_count": 16,
   "metadata": {},
   "outputs": [
    {
     "data": {
      "text/plain": [
       "0.4085940909999408"
      ]
     },
     "execution_count": 16,
     "metadata": {},
     "output_type": "execute_result"
    }
   ],
   "source": [
    "timeit.timeit(\"x = sum(range(10))\")"
   ]
  },
  {
   "cell_type": "markdown",
   "metadata": {},
   "source": [
    "- 스크립트 파일에 대해 실행"
   ]
  },
  {
   "cell_type": "code",
   "execution_count": 17,
   "metadata": {},
   "outputs": [
    {
     "name": "stdout",
     "output_type": "stream",
     "text": [
      "10000000 loops, best of 5: 34.1 nsec per loop\r\n"
     ]
    }
   ],
   "source": [
    "!python -m timeit \"d = {}\""
   ]
  },
  {
   "cell_type": "code",
   "execution_count": 18,
   "metadata": {},
   "outputs": [
    {
     "name": "stdout",
     "output_type": "stream",
     "text": [
      "1000000 loops, best of 5: 269 nsec per loop\r\n"
     ]
    }
   ],
   "source": [
    "!python -m timeit \"import collections\" \"d = collections.OrderedDict()\""
   ]
  },
  {
   "cell_type": "code",
   "execution_count": null,
   "metadata": {},
   "outputs": [],
   "source": []
  }
 ],
 "metadata": {
  "kernelspec": {
   "display_name": "Python 3",
   "language": "python",
   "name": "python3"
  },
  "language_info": {
   "codemirror_mode": {
    "name": "ipython",
    "version": 3
   },
   "file_extension": ".py",
   "mimetype": "text/x-python",
   "name": "python",
   "nbconvert_exporter": "python",
   "pygments_lexer": "ipython3",
   "version": "3.7.9"
  }
 },
 "nbformat": 4,
 "nbformat_minor": 4
}
