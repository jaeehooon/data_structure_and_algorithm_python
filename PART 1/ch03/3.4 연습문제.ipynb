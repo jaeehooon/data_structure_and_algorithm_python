{
 "cells": [
  {
   "cell_type": "markdown",
   "metadata": {},
   "source": [
    "# Ch 03 컬렉션 자료구조"
   ]
  },
  {
   "cell_type": "markdown",
   "metadata": {},
   "source": [
    "### 3.4.1 단어 횟수 세기"
   ]
  },
  {
   "cell_type": "code",
   "execution_count": null,
   "metadata": {},
   "outputs": [],
   "source": []
  },
  {
   "cell_type": "code",
   "execution_count": null,
   "metadata": {},
   "outputs": [],
   "source": []
  },
  {
   "cell_type": "markdown",
   "metadata": {},
   "source": [
    "### 3.4.2 애너그램\n",
    "- 애너그램은 문장 또는 단어의 철자 순서를 바꾸는 놀이를 말함\n",
    "\n",
    "- 두 문자열이 서로 애너그램인지 확인하고 싶을 때,  \n",
    "    셋(Set)은 항목의 발생횟수를 계산하지 않고, 리스트의 항목을 정렬하는 시간복잡도는 최소 O(nlog(n))\n",
    "    \n",
    "- 따라서, 애너그램을 확인하는데는 딕셔너리를 사용하는 것이 좋은 해결책"
   ]
  },
  {
   "cell_type": "code",
   "execution_count": 1,
   "metadata": {},
   "outputs": [],
   "source": [
    "from collections import Counter"
   ]
  },
  {
   "cell_type": "code",
   "execution_count": 15,
   "metadata": {},
   "outputs": [],
   "source": [
    "def is_anagram(seq1, seq2):\n",
    "    seq1_counter, seq2_counter = Counter(), Counter()\n",
    "    for char1_, char2_ in zip(seq1, seq2):\n",
    "        seq1_counter[char1_] += 1\n",
    "        seq2_counter[char2_] += 1\n",
    "    \n",
    "    result = seq1_counter - seq2_counter\n",
    "    return len(result.most_common())"
   ]
  },
  {
   "cell_type": "code",
   "execution_count": 17,
   "metadata": {},
   "outputs": [
    {
     "name": "stdout",
     "output_type": "stream",
     "text": [
      "True!\n"
     ]
    }
   ],
   "source": [
    "if is_anagram(\"marina\", \"aniram\") == 0:\n",
    "    print(\"True!\")\n",
    "else:\n",
    "    print(\"False!\")"
   ]
  },
  {
   "cell_type": "code",
   "execution_count": 18,
   "metadata": {
    "scrolled": true
   },
   "outputs": [
    {
     "name": "stdout",
     "output_type": "stream",
     "text": [
      "False!\n"
     ]
    }
   ],
   "source": [
    "if is_anagram(\"google\", \"gouglo\") == 0:\n",
    "    print(\"True!\")\n",
    "else:\n",
    "    print(\"False!\")"
   ]
  },
  {
   "cell_type": "markdown",
   "metadata": {},
   "source": [
    "### 3.4.3 주사위 합계 경로"
   ]
  },
  {
   "cell_type": "code",
   "execution_count": 5,
   "metadata": {},
   "outputs": [],
   "source": [
    "def find_dice_probabilities(N):\n",
    "    dice = [i for i in range(1, 7)]\n",
    "    result = list()\n",
    "    for i in dice:\n",
    "        for j in dice:\n",
    "            if i + j == N:\n",
    "                result.append([i, j])\n",
    "    return [len(result), result]"
   ]
  },
  {
   "cell_type": "code",
   "execution_count": 6,
   "metadata": {},
   "outputs": [],
   "source": [
    "def test_find_dice_probabilities():\n",
    "    N = 5\n",
    "    results = find_dice_probabilites(N)\n",
    "    print(results)\n",
    "    assert(results[0] == len(results[1]))\n",
    "    print(\"테스트 통과!\")"
   ]
  },
  {
   "cell_type": "code",
   "execution_count": 7,
   "metadata": {},
   "outputs": [
    {
     "name": "stdout",
     "output_type": "stream",
     "text": [
      "[4, [[1, 4], [2, 3], [3, 2], [4, 1]]]\n",
      "테스트 통과!\n"
     ]
    }
   ],
   "source": [
    "test_find_dice_probabilities()"
   ]
  },
  {
   "cell_type": "markdown",
   "metadata": {},
   "source": [
    "### 3.4.4 단어의 중복 문자 제거"
   ]
  },
  {
   "cell_type": "code",
   "execution_count": 17,
   "metadata": {},
   "outputs": [],
   "source": [
    "def delete_duplicate_char_str(s):\n",
    "    chars = set(list(s.lower()))\n",
    "    result = s    # 새로운 변수 만들 필요 없음!\n",
    "    for c in chars:\n",
    "        if s.count(c) >= 2:\n",
    "            result = result.replace(c, \"\")\n",
    "    return result"
   ]
  },
  {
   "cell_type": "code",
   "execution_count": 18,
   "metadata": {},
   "outputs": [
    {
     "name": "stdout",
     "output_type": "stream",
     "text": [
      "le\n"
     ]
    },
    {
     "data": {
      "text/plain": [
       "'le'"
      ]
     },
     "execution_count": 18,
     "metadata": {},
     "output_type": "execute_result"
    }
   ],
   "source": [
    "delete_duplicate_char_str('google')"
   ]
  },
  {
   "cell_type": "code",
   "execution_count": null,
   "metadata": {},
   "outputs": [],
   "source": []
  }
 ],
 "metadata": {
  "kernelspec": {
   "display_name": "Python 3",
   "language": "python",
   "name": "python3"
  },
  "language_info": {
   "codemirror_mode": {
    "name": "ipython",
    "version": 3
   },
   "file_extension": ".py",
   "mimetype": "text/x-python",
   "name": "python",
   "nbconvert_exporter": "python",
   "pygments_lexer": "ipython3",
   "version": "3.7.9"
  }
 },
 "nbformat": 4,
 "nbformat_minor": 4
}
