{
 "cells": [
  {
   "cell_type": "markdown",
   "metadata": {},
   "source": [
    "# Ch 08 점근적 분석"
   ]
  },
  {
   "cell_type": "markdown",
   "metadata": {},
   "source": [
    "|시간복잡도|실행 시간|알고리즘 예|\n",
    "|:---|---:|:---:|\n",
    "|O($n^2$)|2차|삽입 정렬, 선택 정렬|\n",
    "|O($n logn)$|로그 선형|퀵 정렬, 병합 정렬 등 문제를 작은 덩어리로 분해한 다음, 그 결과를 병합하는 알고리즘|\n",
    "|O($n$)|선형|리스트 순회|\n",
    "|O($log n$)|로그|이진 트리 검색|\n",
    "|O(1)|상수|해시 테이블 검색 및 수정|\n",
    "|O($n^k$)|다항|n번 순회하는 반복문이 k번 중첩됨|\n",
    "|O($k^n$)|지수|n개의 모든 부분집합 나열하기|\n",
    "|O($n!$)|계승|n개의 모든 순서 나열하기|\n",
    "\n",
    "\n",
    "\n"
   ]
  }
 ],
 "metadata": {
  "kernelspec": {
   "display_name": "Python 3",
   "language": "python",
   "name": "python3"
  },
  "language_info": {
   "codemirror_mode": {
    "name": "ipython",
    "version": 3
   },
   "file_extension": ".py",
   "mimetype": "text/x-python",
   "name": "python",
   "nbconvert_exporter": "python",
   "pygments_lexer": "ipython3",
   "version": "3.7.9"
  }
 },
 "nbformat": 4,
 "nbformat_minor": 4
}
