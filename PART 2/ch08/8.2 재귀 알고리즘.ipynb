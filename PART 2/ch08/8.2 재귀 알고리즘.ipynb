{
 "cells": [
  {
   "cell_type": "markdown",
   "metadata": {},
   "source": [
    "# Ch 08 점근적 분석"
   ]
  },
  {
   "cell_type": "markdown",
   "metadata": {},
   "source": [
    "재귀 알고리즘\n",
    "- 베이스 케이스(재귀호출을 유발하지 않는 종료 시나리오)가 존재\n",
    "- 상태를 변경하고 베이스 케이스로 이동\n",
    "- 재귀적으로 자신을 호출"
   ]
  },
  {
   "cell_type": "markdown",
   "metadata": {},
   "source": [
    "### 8.2.2 분할정복 알고리즘\n",
    "<br>\n",
    "\n",
    "T(n) = a $\\bullet$ T(n / b) + f(n)\n",
    "\n",
    "- a: 재귀 호출 수\n",
    "- g(n): 재귀적으로 풀어야 할 각 하위 문제의 크기\n",
    "- f(n): 함수에서 수행되는 모든 추가 작업"
   ]
  },
  {
   "cell_type": "code",
   "execution_count": null,
   "metadata": {},
   "outputs": [],
   "source": []
  }
 ],
 "metadata": {
  "kernelspec": {
   "display_name": "Python 3",
   "language": "python",
   "name": "python3"
  },
  "language_info": {
   "codemirror_mode": {
    "name": "ipython",
    "version": 3
   },
   "file_extension": ".py",
   "mimetype": "text/x-python",
   "name": "python",
   "nbconvert_exporter": "python",
   "pygments_lexer": "ipython3",
   "version": "3.7.9"
  }
 },
 "nbformat": 4,
 "nbformat_minor": 4
}
