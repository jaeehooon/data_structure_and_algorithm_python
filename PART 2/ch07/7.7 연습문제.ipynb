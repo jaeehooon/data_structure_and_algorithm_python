{
 "cells": [
  {
   "cell_type": "markdown",
   "metadata": {},
   "source": [
    "# Ch 07 추상 데이터 타입\n",
    "- 연습문제 풀이 (답안 코드 보기 전)"
   ]
  },
  {
   "cell_type": "markdown",
   "metadata": {},
   "source": [
    "### 7.7.1 스택\n",
    "\n",
    "#### 문자열 반전하기"
   ]
  },
  {
   "cell_type": "code",
   "execution_count": 1,
   "metadata": {},
   "outputs": [],
   "source": [
    "from stack_ import Stack"
   ]
  },
  {
   "cell_type": "code",
   "execution_count": 2,
   "metadata": {},
   "outputs": [],
   "source": [
    "def reverse_sentence(sentence):\n",
    "    stack = Stack()\n",
    "    \n",
    "    for i in range(len(sentence)):\n",
    "        stack.push(sentence[i])\n",
    "    \n",
    "    result = \"\"\n",
    "    \n",
    "    for i in range(len(sentence)):\n",
    "        result += stack.pop()\n",
    "    \n",
    "    return result"
   ]
  },
  {
   "cell_type": "code",
   "execution_count": 5,
   "metadata": {},
   "outputs": [
    {
     "name": "stdout",
     "output_type": "stream",
     "text": [
      "버피는 천사다.\n",
      ".다사천 는피버\n"
     ]
    }
   ],
   "source": [
    "sentence = \"버피는 천사다.\"\n",
    "print(sentence)\n",
    "print(reverse_sentence(sentence))"
   ]
  },
  {
   "cell_type": "markdown",
   "metadata": {},
   "source": [
    "#### 괄호의 짝 확인하기"
   ]
  },
  {
   "cell_type": "code",
   "execution_count": 25,
   "metadata": {},
   "outputs": [],
   "source": [
    "def balance_bracket(inputString):\n",
    "    stack = Stack()\n",
    "    \n",
    "    for c in inputString:\n",
    "        if c == ('(' or '{' or '['):\n",
    "            stack.push(c)\n",
    "            \n",
    "        if c == ')':\n",
    "            if stack.peek() == '(':\n",
    "                stack.pop()\n",
    "        elif c == '}':\n",
    "            if stack.peek() == '}':\n",
    "                stack.pop()\n",
    "        elif c == ']':\n",
    "            if stack.peek() == ']':\n",
    "                stack.pop()\n",
    "    \n",
    "    if stack.isEmpty():\n",
    "        return True\n",
    "    return False"
   ]
  },
  {
   "cell_type": "code",
   "execution_count": 26,
   "metadata": {},
   "outputs": [],
   "source": [
    "str1 = \"((()))\""
   ]
  },
  {
   "cell_type": "code",
   "execution_count": 27,
   "metadata": {},
   "outputs": [
    {
     "data": {
      "text/plain": [
       "True"
      ]
     },
     "execution_count": 27,
     "metadata": {},
     "output_type": "execute_result"
    }
   ],
   "source": [
    "balance_bracket(str1)"
   ]
  },
  {
   "cell_type": "code",
   "execution_count": 28,
   "metadata": {},
   "outputs": [
    {
     "data": {
      "text/plain": [
       "False"
      ]
     },
     "execution_count": 28,
     "metadata": {},
     "output_type": "execute_result"
    }
   ],
   "source": [
    "balance_bracket(\"(()\")"
   ]
  },
  {
   "cell_type": "markdown",
   "metadata": {},
   "source": [
    "#### 10진수를 2진수로 변환하기"
   ]
  },
  {
   "cell_type": "code",
   "execution_count": 48,
   "metadata": {},
   "outputs": [],
   "source": [
    "def dec2bin(decNum):\n",
    "    s = Stack()\n",
    "    \n",
    "    while True:\n",
    "        if decNum // 2 != 0:\n",
    "            s.push(decNum % 2)\n",
    "            decNum //= 2\n",
    "        else:\n",
    "            s.push(1)\n",
    "            break\n",
    "    \n",
    "    result = \"\"\n",
    "    \n",
    "    while not s.isEmpty():\n",
    "        result += str(s.pop())\n",
    "    \n",
    "    return result"
   ]
  },
  {
   "cell_type": "code",
   "execution_count": 49,
   "metadata": {},
   "outputs": [
    {
     "name": "stdout",
     "output_type": "stream",
     "text": [
      "1001\n"
     ]
    }
   ],
   "source": [
    "decnum = 9\n",
    "print(dec2bin(decnum))"
   ]
  },
  {
   "cell_type": "code",
   "execution_count": null,
   "metadata": {},
   "outputs": [],
   "source": []
  }
 ],
 "metadata": {
  "kernelspec": {
   "display_name": "Python 3",
   "language": "python",
   "name": "python3"
  },
  "language_info": {
   "codemirror_mode": {
    "name": "ipython",
    "version": 3
   },
   "file_extension": ".py",
   "mimetype": "text/x-python",
   "name": "python",
   "nbconvert_exporter": "python",
   "pygments_lexer": "ipython3",
   "version": "3.7.9"
  }
 },
 "nbformat": 4,
 "nbformat_minor": 4
}
